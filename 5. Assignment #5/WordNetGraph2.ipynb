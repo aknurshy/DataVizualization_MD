{
 "cells": [
  {
   "cell_type": "code",
   "execution_count": 1,
   "metadata": {},
   "outputs": [],
   "source": [
    "from nltk.corpus import wordnet as wn\n",
    "import json"
   ]
  },
  {
   "cell_type": "code",
   "execution_count": 2,
   "metadata": {},
   "outputs": [],
   "source": [
    "#WordNet Graph.py\n",
    "def closure_graph(synset,fn):\n",
    "    seen = set()\n",
    "    node = set()\n",
    "    edge = list()\n",
    "    \n",
    "    def recurse(s):\n",
    "        if not s in seen:\n",
    "            seen.add(s)\n",
    "            print(s.lemma_names('eng')[0])\n",
    "            node.add(s.lemma_names('eng')[0])\n",
    "            for s1 in fn(s):\n",
    "                \n",
    "                node.add(s1.lemma_names('eng')[0])\n",
    "                edge.append({\"source\":s.lemma_names('eng')[0],\"target\":s1.lemma_names('eng')[0]})\n",
    "                recurse(s1)\n",
    "    recurse(synset)\n",
    "    return (list(node),edge)"
   ]
  },
  {
   "cell_type": "code",
   "execution_count": 3,
   "metadata": {},
   "outputs": [
    {
     "name": "stdout",
     "output_type": "stream",
     "text": [
      "dog\n",
      "canine\n",
      "carnivore\n",
      "placental\n",
      "mammal\n",
      "vertebrate\n",
      "chordate\n",
      "animal\n",
      "organism\n",
      "living_thing\n",
      "whole\n",
      "object\n",
      "physical_entity\n",
      "entity\n",
      "domestic_animal\n",
      "(['entity', 'domestic_animal', 'chordate', 'canine', 'dog', 'carnivore', 'placental', 'living_thing', 'mammal', 'whole', 'vertebrate', 'organism', 'object', 'physical_entity', 'animal'], [{'source': 'dog', 'target': 'canine'}, {'source': 'canine', 'target': 'carnivore'}, {'source': 'carnivore', 'target': 'placental'}, {'source': 'placental', 'target': 'mammal'}, {'source': 'mammal', 'target': 'vertebrate'}, {'source': 'vertebrate', 'target': 'chordate'}, {'source': 'chordate', 'target': 'animal'}, {'source': 'animal', 'target': 'organism'}, {'source': 'organism', 'target': 'living_thing'}, {'source': 'living_thing', 'target': 'whole'}, {'source': 'whole', 'target': 'object'}, {'source': 'object', 'target': 'physical_entity'}, {'source': 'physical_entity', 'target': 'entity'}, {'source': 'dog', 'target': 'domestic_animal'}, {'source': 'domestic_animal', 'target': 'animal'}]) \n",
      "\n",
      "['animal', 'animate_being', 'beast', 'brute', 'creature', 'fauna']\n"
     ]
    }
   ],
   "source": [
    "#WordNet Graph.py\n",
    "dog = wn.synset('dog.n.01')\n",
    "graph = closure_graph(dog, lambda s: s.hypernyms())\n",
    "with open(\"wordnet.json\",\"w\") as fh:\n",
    "    json.dump({\"node\":graph[0],\"edge\":graph[1]},fh)\n",
    "print(graph, '\\n')\n",
    "\n",
    "animal = wn.synset('animal.n.01')\n",
    "print(animal.lemma_names('eng'))"
   ]
  },
  {
   "cell_type": "code",
   "execution_count": 4,
   "metadata": {},
   "outputs": [
    {
     "data": {
      "text/plain": [
       "Synset('dog.n.01')"
      ]
     },
     "execution_count": 4,
     "metadata": {},
     "output_type": "execute_result"
    }
   ],
   "source": [
    "dog1 = wn.synsets('dog')[0]\n",
    "dog1"
   ]
  },
  {
   "cell_type": "code",
   "execution_count": 5,
   "metadata": {},
   "outputs": [
    {
     "data": {
      "text/plain": [
       "'dog.n.01'"
      ]
     },
     "execution_count": 5,
     "metadata": {},
     "output_type": "execute_result"
    }
   ],
   "source": [
    "dog1.name()"
   ]
  },
  {
   "cell_type": "code",
   "execution_count": 6,
   "metadata": {},
   "outputs": [],
   "source": [
    "def closure_graph(synset,fn):\n",
    "    seen = set()\n",
    "    node = set()\n",
    "    edge = list()\n",
    "    \n",
    "    \n",
    "    def recurse(s):\n",
    "        if not s in seen:\n",
    "            seen.add(s)\n",
    "            print(s.lemma_names('eng')[0])\n",
    "            node.add(s.lemma_names('eng')[0])\n",
    "            for ss in s.lemma_names('eng'):\n",
    "                if not ss in seen:\n",
    "                    node.add(ss)\n",
    "                edge.append({\"source\":s.lemma_names('eng')[0],\n",
    "                             \"target\":ss, \n",
    "                             \"link\":\"synonym\"})\n",
    "            for s1 in fn(s):\n",
    "                if not s1 in seen:\n",
    "                    node.add(s1.lemma_names('eng')[0])\n",
    "                edge.append({\"source\":s.lemma_names('eng')[0],\n",
    "                             \"target\":s1.lemma_names('eng')[0], \n",
    "                             \"link\":\"hyperonym\"})\n",
    "                recurse(s1)\n",
    "    recurse(synset)\n",
    "    return (list(node),edge)"
   ]
  },
  {
   "cell_type": "code",
   "execution_count": 7,
   "metadata": {},
   "outputs": [
    {
     "name": "stdout",
     "output_type": "stream",
     "text": [
      "dog\n",
      "canine\n",
      "carnivore\n",
      "placental\n",
      "mammal\n",
      "vertebrate\n",
      "chordate\n",
      "animal\n",
      "organism\n",
      "living_thing\n",
      "whole\n",
      "object\n",
      "physical_entity\n",
      "entity\n",
      "domestic_animal\n"
     ]
    }
   ],
   "source": [
    "dog = wn.synset('dog.n.01')\n",
    "graph = closure_graph(dog,lambda s: s.hypernyms())"
   ]
  },
  {
   "cell_type": "code",
   "execution_count": 8,
   "metadata": {},
   "outputs": [
    {
     "data": {
      "text/plain": [
       "(['canid',\n",
       "  'animate_being',\n",
       "  'physical_object',\n",
       "  'carnivore',\n",
       "  'living_thing',\n",
       "  'vertebrate',\n",
       "  'eutherian_mammal',\n",
       "  'object',\n",
       "  'unit',\n",
       "  'entity',\n",
       "  'domestic_animal',\n",
       "  'mammalian',\n",
       "  'canine',\n",
       "  'craniate',\n",
       "  'beast',\n",
       "  'mammal',\n",
       "  'being',\n",
       "  'whole',\n",
       "  'placental_mammal',\n",
       "  'fauna',\n",
       "  'chordate',\n",
       "  'domesticated_animal',\n",
       "  'Canis_familiaris',\n",
       "  'placental',\n",
       "  'eutherian',\n",
       "  'animate_thing',\n",
       "  'organism',\n",
       "  'animal',\n",
       "  'domestic_dog',\n",
       "  'dog',\n",
       "  'creature',\n",
       "  'physical_entity',\n",
       "  'brute'],\n",
       " [{'source': 'dog', 'target': 'dog', 'link': 'synonym'},\n",
       "  {'source': 'dog', 'target': 'domestic_dog', 'link': 'synonym'},\n",
       "  {'source': 'dog', 'target': 'Canis_familiaris', 'link': 'synonym'},\n",
       "  {'source': 'dog', 'target': 'canine', 'link': 'hyperonym'},\n",
       "  {'source': 'canine', 'target': 'canine', 'link': 'synonym'},\n",
       "  {'source': 'canine', 'target': 'canid', 'link': 'synonym'},\n",
       "  {'source': 'canine', 'target': 'carnivore', 'link': 'hyperonym'},\n",
       "  {'source': 'carnivore', 'target': 'carnivore', 'link': 'synonym'},\n",
       "  {'source': 'carnivore', 'target': 'placental', 'link': 'hyperonym'},\n",
       "  {'source': 'placental', 'target': 'placental', 'link': 'synonym'},\n",
       "  {'source': 'placental', 'target': 'placental_mammal', 'link': 'synonym'},\n",
       "  {'source': 'placental', 'target': 'eutherian', 'link': 'synonym'},\n",
       "  {'source': 'placental', 'target': 'eutherian_mammal', 'link': 'synonym'},\n",
       "  {'source': 'placental', 'target': 'mammal', 'link': 'hyperonym'},\n",
       "  {'source': 'mammal', 'target': 'mammal', 'link': 'synonym'},\n",
       "  {'source': 'mammal', 'target': 'mammalian', 'link': 'synonym'},\n",
       "  {'source': 'mammal', 'target': 'vertebrate', 'link': 'hyperonym'},\n",
       "  {'source': 'vertebrate', 'target': 'vertebrate', 'link': 'synonym'},\n",
       "  {'source': 'vertebrate', 'target': 'craniate', 'link': 'synonym'},\n",
       "  {'source': 'vertebrate', 'target': 'chordate', 'link': 'hyperonym'},\n",
       "  {'source': 'chordate', 'target': 'chordate', 'link': 'synonym'},\n",
       "  {'source': 'chordate', 'target': 'animal', 'link': 'hyperonym'},\n",
       "  {'source': 'animal', 'target': 'animal', 'link': 'synonym'},\n",
       "  {'source': 'animal', 'target': 'animate_being', 'link': 'synonym'},\n",
       "  {'source': 'animal', 'target': 'beast', 'link': 'synonym'},\n",
       "  {'source': 'animal', 'target': 'brute', 'link': 'synonym'},\n",
       "  {'source': 'animal', 'target': 'creature', 'link': 'synonym'},\n",
       "  {'source': 'animal', 'target': 'fauna', 'link': 'synonym'},\n",
       "  {'source': 'animal', 'target': 'organism', 'link': 'hyperonym'},\n",
       "  {'source': 'organism', 'target': 'organism', 'link': 'synonym'},\n",
       "  {'source': 'organism', 'target': 'being', 'link': 'synonym'},\n",
       "  {'source': 'organism', 'target': 'living_thing', 'link': 'hyperonym'},\n",
       "  {'source': 'living_thing', 'target': 'living_thing', 'link': 'synonym'},\n",
       "  {'source': 'living_thing', 'target': 'animate_thing', 'link': 'synonym'},\n",
       "  {'source': 'living_thing', 'target': 'whole', 'link': 'hyperonym'},\n",
       "  {'source': 'whole', 'target': 'whole', 'link': 'synonym'},\n",
       "  {'source': 'whole', 'target': 'unit', 'link': 'synonym'},\n",
       "  {'source': 'whole', 'target': 'object', 'link': 'hyperonym'},\n",
       "  {'source': 'object', 'target': 'object', 'link': 'synonym'},\n",
       "  {'source': 'object', 'target': 'physical_object', 'link': 'synonym'},\n",
       "  {'source': 'object', 'target': 'physical_entity', 'link': 'hyperonym'},\n",
       "  {'source': 'physical_entity',\n",
       "   'target': 'physical_entity',\n",
       "   'link': 'synonym'},\n",
       "  {'source': 'physical_entity', 'target': 'entity', 'link': 'hyperonym'},\n",
       "  {'source': 'entity', 'target': 'entity', 'link': 'synonym'},\n",
       "  {'source': 'dog', 'target': 'domestic_animal', 'link': 'hyperonym'},\n",
       "  {'source': 'domestic_animal',\n",
       "   'target': 'domestic_animal',\n",
       "   'link': 'synonym'},\n",
       "  {'source': 'domestic_animal',\n",
       "   'target': 'domesticated_animal',\n",
       "   'link': 'synonym'},\n",
       "  {'source': 'domestic_animal', 'target': 'animal', 'link': 'hyperonym'}])"
      ]
     },
     "execution_count": 8,
     "metadata": {},
     "output_type": "execute_result"
    }
   ],
   "source": [
    "graph"
   ]
  },
  {
   "cell_type": "code",
   "execution_count": 9,
   "metadata": {},
   "outputs": [
    {
     "data": {
      "text/plain": [
       "(['canid',\n",
       "  'animate_being',\n",
       "  'physical_object',\n",
       "  'carnivore',\n",
       "  'living_thing',\n",
       "  'vertebrate',\n",
       "  'eutherian_mammal',\n",
       "  'object',\n",
       "  'unit',\n",
       "  'entity',\n",
       "  'domestic_animal',\n",
       "  'mammalian',\n",
       "  'canine',\n",
       "  'craniate',\n",
       "  'beast',\n",
       "  'mammal',\n",
       "  'being',\n",
       "  'whole',\n",
       "  'placental_mammal',\n",
       "  'fauna',\n",
       "  'chordate',\n",
       "  'domesticated_animal',\n",
       "  'Canis_familiaris',\n",
       "  'placental',\n",
       "  'eutherian',\n",
       "  'animate_thing',\n",
       "  'organism',\n",
       "  'animal',\n",
       "  'domestic_dog',\n",
       "  'dog',\n",
       "  'creature',\n",
       "  'physical_entity',\n",
       "  'brute'],\n",
       " [{'source': 'dog', 'target': 'dog', 'link': 'synonym'},\n",
       "  {'source': 'dog', 'target': 'domestic_dog', 'link': 'synonym'},\n",
       "  {'source': 'dog', 'target': 'Canis_familiaris', 'link': 'synonym'},\n",
       "  {'source': 'dog', 'target': 'canine', 'link': 'hyperonym'},\n",
       "  {'source': 'canine', 'target': 'canine', 'link': 'synonym'},\n",
       "  {'source': 'canine', 'target': 'canid', 'link': 'synonym'},\n",
       "  {'source': 'canine', 'target': 'carnivore', 'link': 'hyperonym'},\n",
       "  {'source': 'carnivore', 'target': 'carnivore', 'link': 'synonym'},\n",
       "  {'source': 'carnivore', 'target': 'placental', 'link': 'hyperonym'},\n",
       "  {'source': 'placental', 'target': 'placental', 'link': 'synonym'},\n",
       "  {'source': 'placental', 'target': 'placental_mammal', 'link': 'synonym'},\n",
       "  {'source': 'placental', 'target': 'eutherian', 'link': 'synonym'},\n",
       "  {'source': 'placental', 'target': 'eutherian_mammal', 'link': 'synonym'},\n",
       "  {'source': 'placental', 'target': 'mammal', 'link': 'hyperonym'},\n",
       "  {'source': 'mammal', 'target': 'mammal', 'link': 'synonym'},\n",
       "  {'source': 'mammal', 'target': 'mammalian', 'link': 'synonym'},\n",
       "  {'source': 'mammal', 'target': 'vertebrate', 'link': 'hyperonym'},\n",
       "  {'source': 'vertebrate', 'target': 'vertebrate', 'link': 'synonym'},\n",
       "  {'source': 'vertebrate', 'target': 'craniate', 'link': 'synonym'},\n",
       "  {'source': 'vertebrate', 'target': 'chordate', 'link': 'hyperonym'},\n",
       "  {'source': 'chordate', 'target': 'chordate', 'link': 'synonym'},\n",
       "  {'source': 'chordate', 'target': 'animal', 'link': 'hyperonym'},\n",
       "  {'source': 'animal', 'target': 'animal', 'link': 'synonym'},\n",
       "  {'source': 'animal', 'target': 'animate_being', 'link': 'synonym'},\n",
       "  {'source': 'animal', 'target': 'beast', 'link': 'synonym'},\n",
       "  {'source': 'animal', 'target': 'brute', 'link': 'synonym'},\n",
       "  {'source': 'animal', 'target': 'creature', 'link': 'synonym'},\n",
       "  {'source': 'animal', 'target': 'fauna', 'link': 'synonym'},\n",
       "  {'source': 'animal', 'target': 'organism', 'link': 'hyperonym'},\n",
       "  {'source': 'organism', 'target': 'organism', 'link': 'synonym'},\n",
       "  {'source': 'organism', 'target': 'being', 'link': 'synonym'},\n",
       "  {'source': 'organism', 'target': 'living_thing', 'link': 'hyperonym'},\n",
       "  {'source': 'living_thing', 'target': 'living_thing', 'link': 'synonym'},\n",
       "  {'source': 'living_thing', 'target': 'animate_thing', 'link': 'synonym'},\n",
       "  {'source': 'living_thing', 'target': 'whole', 'link': 'hyperonym'},\n",
       "  {'source': 'whole', 'target': 'whole', 'link': 'synonym'},\n",
       "  {'source': 'whole', 'target': 'unit', 'link': 'synonym'},\n",
       "  {'source': 'whole', 'target': 'object', 'link': 'hyperonym'},\n",
       "  {'source': 'object', 'target': 'object', 'link': 'synonym'},\n",
       "  {'source': 'object', 'target': 'physical_object', 'link': 'synonym'},\n",
       "  {'source': 'object', 'target': 'physical_entity', 'link': 'hyperonym'},\n",
       "  {'source': 'physical_entity',\n",
       "   'target': 'physical_entity',\n",
       "   'link': 'synonym'},\n",
       "  {'source': 'physical_entity', 'target': 'entity', 'link': 'hyperonym'},\n",
       "  {'source': 'entity', 'target': 'entity', 'link': 'synonym'},\n",
       "  {'source': 'dog', 'target': 'domestic_animal', 'link': 'hyperonym'},\n",
       "  {'source': 'domestic_animal',\n",
       "   'target': 'domestic_animal',\n",
       "   'link': 'synonym'},\n",
       "  {'source': 'domestic_animal',\n",
       "   'target': 'domesticated_animal',\n",
       "   'link': 'synonym'},\n",
       "  {'source': 'domestic_animal', 'target': 'animal', 'link': 'hyperonym'}])"
      ]
     },
     "execution_count": 9,
     "metadata": {},
     "output_type": "execute_result"
    }
   ],
   "source": [
    "graph"
   ]
  },
  {
   "cell_type": "code",
   "execution_count": 10,
   "metadata": {},
   "outputs": [
    {
     "name": "stdout",
     "output_type": "stream",
     "text": [
      "48\n"
     ]
    }
   ],
   "source": [
    "enum = enumerate(graph[0])\n",
    "enum = list(enum)\n",
    "print(len(graph[1]))\n",
    "for i in range(0, len(graph[1])):\n",
    "    for j in range(0,len(enum)):\n",
    "        if graph[1][i]['source']== enum[j][1]:\n",
    "            graph[1][i]['source']=enum[j][0]\n",
    "        if graph[1][i]['target']== enum[j][1]:\n",
    "            graph[1][i]['target']=enum[j][0]\n",
    "            \n",
    "for i in range(0,len(graph[0])):\n",
    "        for j in range(0,len(enum)):\n",
    "            if graph[0][i]== enum[j][1]:\n",
    "                graph[0][i]={\"id\":enum[j][0], \"name\":graph[0][i]}"
   ]
  },
  {
   "cell_type": "code",
   "execution_count": 11,
   "metadata": {},
   "outputs": [
    {
     "name": "stdout",
     "output_type": "stream",
     "text": [
      "graph[0] {'id': 0, 'name': 'canid'}\n",
      "graph[0] [{'id': 0, 'name': 'canid'}, {'id': 1, 'name': 'animate_being'}, {'id': 2, 'name': 'physical_object'}, {'id': 3, 'name': 'carnivore'}, {'id': 4, 'name': 'living_thing'}, {'id': 5, 'name': 'vertebrate'}, {'id': 6, 'name': 'eutherian_mammal'}, {'id': 7, 'name': 'object'}, {'id': 8, 'name': 'unit'}, {'id': 9, 'name': 'entity'}, {'id': 10, 'name': 'domestic_animal'}, {'id': 11, 'name': 'mammalian'}, {'id': 12, 'name': 'canine'}, {'id': 13, 'name': 'craniate'}, {'id': 14, 'name': 'beast'}, {'id': 15, 'name': 'mammal'}, {'id': 16, 'name': 'being'}, {'id': 17, 'name': 'whole'}, {'id': 18, 'name': 'placental_mammal'}, {'id': 19, 'name': 'fauna'}, {'id': 20, 'name': 'chordate'}, {'id': 21, 'name': 'domesticated_animal'}, {'id': 22, 'name': 'Canis_familiaris'}, {'id': 23, 'name': 'placental'}, {'id': 24, 'name': 'eutherian'}, {'id': 25, 'name': 'animate_thing'}, {'id': 26, 'name': 'organism'}, {'id': 27, 'name': 'animal'}, {'id': 28, 'name': 'domestic_dog'}, {'id': 29, 'name': 'dog'}, {'id': 30, 'name': 'creature'}, {'id': 31, 'name': 'physical_entity'}, {'id': 32, 'name': 'brute'}]\n"
     ]
    }
   ],
   "source": [
    "print('graph[0]', graph[0][0])\n",
    "with open(\"wordnet.json\",\"w\") as fh:\n",
    "    print('graph[0]', list(map(dict, graph[0])))\n",
    "    json.dump({\"nodes\": graph[0],\"links\":graph[1]},fh)"
   ]
  },
  {
   "cell_type": "code",
   "execution_count": null,
   "metadata": {},
   "outputs": [],
   "source": []
  }
 ],
 "metadata": {
  "kernelspec": {
   "display_name": "Python 3",
   "language": "python",
   "name": "python3"
  },
  "language_info": {
   "codemirror_mode": {
    "name": "ipython",
    "version": 3
   },
   "file_extension": ".py",
   "mimetype": "text/x-python",
   "name": "python",
   "nbconvert_exporter": "python",
   "pygments_lexer": "ipython3",
   "version": "3.7.3"
  }
 },
 "nbformat": 4,
 "nbformat_minor": 2
}
